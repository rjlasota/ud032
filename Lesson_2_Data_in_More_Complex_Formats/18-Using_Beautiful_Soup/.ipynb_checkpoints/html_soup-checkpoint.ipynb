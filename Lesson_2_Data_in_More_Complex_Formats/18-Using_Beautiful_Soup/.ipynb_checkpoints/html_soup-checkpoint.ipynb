{
 "cells": [
  {
   "cell_type": "code",
   "execution_count": 1,
   "metadata": {
    "collapsed": true
   },
   "outputs": [],
   "source": [
    "from bs4 import BeautifulSoup\n",
    "import requests\n",
    "import json"
   ]
  },
  {
   "cell_type": "code",
   "execution_count": 2,
   "metadata": {
    "collapsed": true
   },
   "outputs": [],
   "source": [
    "html_page = \"page_source.html\"\n",
    "\n",
    "def make_request(data):\n",
    "    eventvalidation = data[\"eventvalidation\"]\n",
    "    viewstate = data[\"viewstate\"]\n",
    "\n",
    "    r = requests.post(\"http://www.transtats.bts.gov/Data_Elements.aspx?Data=2\",\n",
    "                    data={'AirportList': \"BOS\",\n",
    "                          'CarrierList': \"VX\",\n",
    "                          'Submit': 'Submit',\n",
    "                          \"__EVENTTARGET\": \"\",\n",
    "                          \"__EVENTARGUMENT\": \"\",\n",
    "                          \"__EVENTVALIDATION\": eventvalidation,\n",
    "                          \"__VIEWSTATE\": viewstate\n",
    "                    })\n",
    "\n",
    "    return r.text\n",
    "\n",
    "\n",
    "def test():\n",
    "    data = extract_data(html_page)\n",
    "    assert data[\"eventvalidation\"] != \"\"\n",
    "    assert data[\"eventvalidation\"].startswith(\"/wEWjAkCoIj1ng0\")\n",
    "    assert data[\"viewstate\"].startswith(\"/wEPDwUKLTI\")\n"
   ]
  },
  {
   "cell_type": "code",
   "execution_count": 3,
   "metadata": {
    "collapsed": false
   },
   "outputs": [
    {
     "data": {
      "text/plain": [
       "builtin_function_or_method"
      ]
     },
     "execution_count": 3,
     "metadata": {},
     "output_type": "execute_result"
    }
   ],
   "source": [
    "type(id)"
   ]
  },
  {
   "cell_type": "code",
   "execution_count": null,
   "metadata": {
    "collapsed": true
   },
   "outputs": [],
   "source": [
    "with open(\"page_source.html\",'r') as html:\n",
    "    soup = BeautifulSoup(html)"
   ]
  },
  {
   "cell_type": "code",
   "execution_count": 34,
   "metadata": {
    "collapsed": false,
    "scrolled": true
   },
   "outputs": [
    {
     "name": "stdout",
     "output_type": "stream",
     "text": [
      "<input id=\"__EVENTVALIDATION\" name=\"__EVENTVALIDATION\" type=\"hidden\" value=\"/wEWjAkCoIj1ng0Clfa57AICjvDy6wsCs/yZsQgCstbN9wQCt9ap9wQCt9bR9wQCi9aR9wQC49bx9gQCtNbN9wQCs9al9wQCstbx6QQCgNbR9wQCttal6gQCidbZ9wQCgdbF9wQCitbJ9wQCg9ap9wQCg9bR9wQCgtb99gQCu6DnvQwC2cKtuAIC28adkwMCjYLn0wEC75nS0wwChbCMzQIC3PT2jAQCsZ2DOQLV9P6MBAKWlIK5DwLV9LaNBALexr2TAwL/66CmCgLpmdrTDALAnoLKDALu2Jz5DgKb1fuQDQLPr+f5DQLv2NT4DgLN4temCQK0i/jSAgLoxo2TAwLUnubKDALUnrbKDAKu5syPCgKnlJK5DwK6i+zSAgL02Kz5DgL32PD5DgLn2KT5DgK7ncc4Apytl/4CAsni+6YJAoqCi9MBAuGZ+tAMAsSv//kNAvCqr8wNApSU0rkPAsSv0/kNApSCl9MBAoqCl9MBAqiL2NICAsavy/kNAurQy/kNAuzY/PkOAsSvu+YNAv79m4wJAuyZrtAMAtq17OcCAvnP7pIEArLMnY0DAsqv0/kNArOd9zgCx56yygwClZS2pg8Cg7CozQIC1rOh0gcC4tic+Q4ClZTWuQ8C6OvgpgoCqIvI0gIC4tiM+Q4C28bVkgMC/6yOkQgC7JnS0wwC6pmO0AwCn9WbkA0C4aq3zw0C3MbpkwMCloLL0wECnOb0jwoCs53TOAKVlIq5DwKKgpvTAQKVlO65DwL5z5aSBAK93vCTDgLQ9LaNBAK93uyTDgKc5qSMCgL+/buMCQLbxoWTAwL1mY7QDALWs+3SBwKDsODNAgKVlPa5DwL5z+KSBALVr//5DQLatejnAgKDsOzNAgLEr\"/>\n"
     ]
    },
    {
     "data": {
      "text/plain": [
       "'/wEWjAkCoIj1ng0Clfa57AICjvDy6wsCs/yZsQgCstbN9wQCt9ap9wQCt9bR9wQCi9aR9wQC49bx9gQCtNbN9wQCs9al9wQCstbx6QQCgNbR9wQCttal6gQCidbZ9wQCgdbF9wQCitbJ9wQCg9ap9wQCg9bR9wQCgtb99gQCu6DnvQwC2cKtuAIC28adkwMCjYLn0wEC75nS0wwChbCMzQIC3PT2jAQCsZ2DOQLV9P6MBAKWlIK5DwLV9LaNBALexr2TAwL/66CmCgLpmdrTDALAnoLKDALu2Jz5DgKb1fuQDQLPr+f5DQLv2NT4DgLN4temCQK0i/jSAgLoxo2TAwLUnubKDALUnrbKDAKu5syPCgKnlJK5DwK6i+zSAgL02Kz5DgL32PD5DgLn2KT5DgK7ncc4Apytl/4CAsni+6YJAoqCi9MBAuGZ+tAMAsSv//kNAvCqr8wNApSU0rkPAsSv0/kNApSCl9MBAoqCl9MBAqiL2NICAsavy/kNAurQy/kNAuzY/PkOAsSvu+YNAv79m4wJAuyZrtAMAtq17OcCAvnP7pIEArLMnY0DAsqv0/kNArOd9zgCx56yygwClZS2pg8Cg7CozQIC1rOh0gcC4tic+Q4ClZTWuQ8C6OvgpgoCqIvI0gIC4tiM+Q4C28bVkgMC/6yOkQgC7JnS0wwC6pmO0AwCn9WbkA0C4aq3zw0C3MbpkwMCloLL0wECnOb0jwoCs53TOAKVlIq5DwKKgpvTAQKVlO65DwL5z5aSBAK93vCTDgLQ9LaNBAK93uyTDgKc5qSMCgL+/buMCQLbxoWTAwL1mY7QDALWs+3SBwKDsODNAgKVlPa5DwL5z+KSBALVr//5DQLatejnAgKDsOzNAgLEr'"
      ]
     },
     "execution_count": 34,
     "metadata": {},
     "output_type": "execute_result"
    }
   ],
   "source": [
    "print soup.find(attrs = {'name' : '__EVENTVALIDATION'})\n",
    "tag = soup.find(id='__EVENTVALIDATION')\n",
    "tag['value']"
   ]
  },
  {
   "cell_type": "code",
   "execution_count": 35,
   "metadata": {
    "collapsed": true
   },
   "outputs": [],
   "source": [
    "def extract_data(page):\n",
    "    data = {\"eventvalidation\": \"\",\n",
    "            \"viewstate\": \"\"}\n",
    "    with open(page) as html:\n",
    "        soup = BeautifulSoup(html)\n",
    "    data['eventvalidation'] = soup.find(id='__EVENTVALIDATION')['value']\n",
    "    data['viewstate'] =  soup.find(id='__VIEWSTATE')['value']\n",
    "    return data"
   ]
  },
  {
   "cell_type": "code",
   "execution_count": 36,
   "metadata": {
    "collapsed": false
   },
   "outputs": [],
   "source": [
    "test()"
   ]
  },
  {
   "cell_type": "code",
   "execution_count": null,
   "metadata": {
    "collapsed": true
   },
   "outputs": [],
   "source": []
  }
 ],
 "metadata": {
  "kernelspec": {
   "display_name": "Python 2",
   "language": "python",
   "name": "python2"
  },
  "language_info": {
   "codemirror_mode": {
    "name": "ipython",
    "version": 2
   },
   "file_extension": ".py",
   "mimetype": "text/x-python",
   "name": "python",
   "nbconvert_exporter": "python",
   "pygments_lexer": "ipython2",
   "version": "2.7.10"
  }
 },
 "nbformat": 4,
 "nbformat_minor": 0
}
