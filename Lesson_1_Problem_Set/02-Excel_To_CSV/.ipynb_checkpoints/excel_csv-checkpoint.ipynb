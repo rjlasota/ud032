{
 "cells": [
  {
   "cell_type": "code",
   "execution_count": 1,
   "metadata": {
    "collapsed": true
   },
   "outputs": [],
   "source": [
    "import xlrd\n",
    "import os\n",
    "import csv\n",
    "from zipfile import ZipFile"
   ]
  },
  {
   "cell_type": "code",
   "execution_count": 2,
   "metadata": {
    "collapsed": true
   },
   "outputs": [],
   "source": [
    "datafile = \"2013_ERCOT_Hourly_Load_Data.xls\"\n",
    "outfile = \"2013_Max_Loads.csv\""
   ]
  },
  {
   "cell_type": "code",
   "execution_count": 3,
   "metadata": {
    "collapsed": true
   },
   "outputs": [],
   "source": [
    "def open_zip(datafile):\n",
    "    with ZipFile('{0}.zip'.format(datafile), 'r') as myzip:\n",
    "        myzip.extractall()"
   ]
  },
  {
   "cell_type": "code",
   "execution_count": 30,
   "metadata": {
    "collapsed": false
   },
   "outputs": [],
   "source": [
    "def get_col_max(sheet, column):\n",
    "    \"\"\"\n",
    "    returns ['AREA_NAME', year, month, day, hour, max load]\n",
    "    for column of sheet\n",
    "    \"\"\"\n",
    "    col_data = sheet.col_values(column,start_rowx=1)    \n",
    "    \n",
    "    max_value = max(col_data)\n",
    "    max_index = col_data.index(max_value) \n",
    "    max_time = xlrd.xldate_as_tuple(sheet.cell_value(max_index + 1, 0),0)   \n",
    "\n",
    "    col_name = [sheet.cell_value(0,column)]  # get column name (region)\n",
    "    col_max = col_name + list(max_time)[:4] + [max_value]  # concatenate data into one list\n",
    "    return col_max\n",
    "\n",
    "def parse_file(datafile):\n",
    "    workbook = xlrd.open_workbook(datafile)\n",
    "    sheet = workbook.sheet_by_index(0)\n",
    "    # YOUR CODE HERE\n",
    "    # Remember that you can use xlrd.xldate_as_tuple(sometime, 0) to convert\n",
    "    # Excel date to Python tuple of (year, month, day, hour, minute, second)\n",
    "    header = [u'Station',u'Year',u'Month',u'Day',u'Hour',u'Max Load']\n",
    "    data = [header] + [get_col_max(sheet, i) for i in range(1,9)]\n",
    "    return data\n",
    "\n",
    "def save_file(data, filename):\n",
    "    with open(filename, 'wb') as f:\n",
    "        w = csv.writer(f, delimiter = '|')\n",
    "        w.writerows(data)"
   ]
  },
  {
   "cell_type": "code",
   "execution_count": 33,
   "metadata": {
    "collapsed": false
   },
   "outputs": [],
   "source": [
    "save_file(data, outfile)"
   ]
  },
  {
   "cell_type": "code",
   "execution_count": 31,
   "metadata": {
    "collapsed": false
   },
   "outputs": [],
   "source": [
    "data = parse_file(datafile)"
   ]
  },
  {
   "cell_type": "code",
   "execution_count": 32,
   "metadata": {
    "collapsed": false
   },
   "outputs": [
    {
     "data": {
      "text/plain": [
       "[[u'Station', u'Year', u'Month', u'Day', u'Hour', u'Max Load'],\n",
       " [u'COAST', 2013, 8, 13, 17, 18779.025510000003],\n",
       " [u'EAST', 2013, 8, 5, 17, 2380.1654089999956],\n",
       " [u'FAR_WEST', 2013, 6, 26, 17, 2281.2722140000024],\n",
       " [u'NORTH', 2013, 8, 7, 17, 1544.7707140000005],\n",
       " [u'NORTH_C', 2013, 8, 7, 18, 24415.570226999993],\n",
       " [u'SOUTHERN', 2013, 8, 8, 16, 5494.157645],\n",
       " [u'SOUTH_C', 2013, 8, 8, 18, 11433.30491600001],\n",
       " [u'WEST', 2013, 8, 7, 17, 1862.6137649999998]]"
      ]
     },
     "execution_count": 32,
     "metadata": {},
     "output_type": "execute_result"
    }
   ],
   "source": [
    "data"
   ]
  },
  {
   "cell_type": "code",
   "execution_count": null,
   "metadata": {
    "collapsed": true
   },
   "outputs": [],
   "source": []
  }
 ],
 "metadata": {
  "kernelspec": {
   "display_name": "Python 2",
   "language": "python",
   "name": "python2"
  },
  "language_info": {
   "codemirror_mode": {
    "name": "ipython",
    "version": 2
   },
   "file_extension": ".py",
   "mimetype": "text/x-python",
   "name": "python",
   "nbconvert_exporter": "python",
   "pygments_lexer": "ipython2",
   "version": "2.7.10"
  }
 },
 "nbformat": 4,
 "nbformat_minor": 0
}
