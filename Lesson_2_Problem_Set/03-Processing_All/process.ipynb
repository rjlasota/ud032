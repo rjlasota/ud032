{
 "cells": [
  {
   "cell_type": "code",
   "execution_count": 1,
   "metadata": {
    "collapsed": true
   },
   "outputs": [],
   "source": [
    "from bs4 import BeautifulSoup\n",
    "from zipfile import ZipFile\n",
    "import os"
   ]
  },
  {
   "cell_type": "code",
   "execution_count": 28,
   "metadata": {
    "collapsed": true
   },
   "outputs": [],
   "source": [
    "datadir = \"data\"\n",
    "\n",
    "\n",
    "def open_zip(datadir):\n",
    "    with ZipFile('{0}.zip'.format(datadir), 'r') as myzip:\n",
    "        myzip.extractall()\n",
    "\n",
    "\n",
    "def process_all(datadir):\n",
    "    files = os.listdir(datadir)\n",
    "    return files\n",
    "\n",
    "\n",
    "\n",
    "def test():\n",
    "    print \"Running a simple test...\"\n",
    "#    open_zip(datadir)\n",
    "    files = process_all(datadir)\n",
    "    data = []\n",
    "    for f in files:\n",
    "        data += process_file(f)\n",
    "    assert len(data) == 3\n",
    "    for entry in data[:3]:\n",
    "        assert type(entry[\"year\"]) == int\n",
    "        assert type(entry[\"flights\"][\"domestic\"]) == int\n",
    "        assert len(entry[\"airport\"]) == 3\n",
    "        assert len(entry[\"courier\"]) == 2\n",
    "    print \"... success!\"\n"
   ]
  },
  {
   "cell_type": "code",
   "execution_count": 45,
   "metadata": {
    "collapsed": false
   },
   "outputs": [
    {
     "name": "stdout",
     "output_type": "stream",
     "text": [
      "[{'airport': 'ATL', 'month': 10, 'flights': {'international': 92565, 'domestic': 815489}, 'courier': 'FL', 'year': 2002}, {'airport': 'ATL', 'month': 11, 'flights': {'international': 91342, 'domestic': 766775}, 'courier': 'FL', 'year': 2002}, {'airport': 'ATL', 'month': 12, 'flights': {'international': 96881, 'domestic': 782175}, 'courier': 'FL', 'year': 2002}]\n"
     ]
    }
   ],
   "source": [
    "#open_zip(datadir)\n",
    "import collections\n",
    "airline_data = collections.namedtuple('airline_data','year month domestic international total')\n",
    "files = process_all(datadir)\n",
    "data = []\n",
    "for f in files:\n",
    "    data = []\n",
    "    info = {}\n",
    "    info[\"courier\"], info[\"airport\"] = f[:6].split(\"-\")\n",
    "    with open(\"{}/{}\".format(datadir, f), \"r\") as html:\n",
    "        soup = BeautifulSoup(html)\n",
    "    for item in soup.select(\"tr.dataTDRight\"):\n",
    "        row_tuple = airline_data(*[el.string.replace(',','') for el in item.children if u'\\n' not in el.string])\n",
    "        if row_tuple.month == 'TOTAL':\n",
    "            continue\n",
    "        dict_info = { \"courier\": info[\"courier\"],\n",
    "                      \"airport\": info[\"airport\"],\n",
    "                      \"year\": int(row_tuple.year),\n",
    "                      \"month\": int(row_tuple.month),\n",
    "                      \"flights\": {\"domestic\": int(row_tuple.domestic),\n",
    "                                  \"international\": int(row_tuple.international)}}\n",
    "        data.append(dict_info)\n",
    "    print data"
   ]
  },
  {
   "cell_type": "code",
   "execution_count": 47,
   "metadata": {
    "collapsed": true
   },
   "outputs": [],
   "source": [
    "def process_file(f):\n",
    "    # This is example of the datastructure you should return\n",
    "    # Each item in the list should be a dictionary containing all the relevant data\n",
    "    # Note - year, month, and the flight data should be integers\n",
    "    # You should skip the rows that contain the TOTAL data for a year\n",
    "    # data = [{\"courier\": \"FL\",\n",
    "    #         \"airport\": \"ATL\",\n",
    "    #         \"year\": 2012,\n",
    "    #         \"month\": 12,\n",
    "    #         \"flights\": {\"domestic\": 100,\n",
    "    #                     \"international\": 100}\n",
    "    #         },\n",
    "    #         {\"courier\": \"...\"}\n",
    "    # ]\n",
    "    data = []\n",
    "    info = {}\n",
    "    info[\"courier\"], info[\"airport\"] = f[:6].split(\"-\")\n",
    "    \n",
    "    with open(\"{}/{}\".format(datadir, f), \"r\") as html:\n",
    "        soup = BeautifulSoup(html)\n",
    "\n",
    "    for item in soup.select(\"tr.dataTDRight\"):\n",
    "        row_tuple = airline_data(*[el.string.replace(',','') for el in item.children \n",
    "                                   if u'\\n' not in el.string])\n",
    "        if row_tuple.month == 'TOTAL':\n",
    "            continue\n",
    "        dict_info = { \"courier\": info[\"courier\"],\n",
    "                      \"airport\": info[\"airport\"],\n",
    "                      \"year\": int(row_tuple.year),\n",
    "                      \"month\": int(row_tuple.month),\n",
    "                      \"flights\": {\"domestic\": int(row_tuple.domestic),\n",
    "                                  \"international\": int(row_tuple.international)}}\n",
    "        data.append(dict_info)\n",
    "        \n",
    "    return data"
   ]
  },
  {
   "cell_type": "code",
   "execution_count": null,
   "metadata": {
    "collapsed": false
   },
   "outputs": [],
   "source": [
    "test()"
   ]
  },
  {
   "cell_type": "code",
   "execution_count": null,
   "metadata": {
    "collapsed": true
   },
   "outputs": [],
   "source": []
  }
 ],
 "metadata": {
  "kernelspec": {
   "display_name": "Python 2",
   "language": "python",
   "name": "python2"
  },
  "language_info": {
   "codemirror_mode": {
    "name": "ipython",
    "version": 2
   },
   "file_extension": ".py",
   "mimetype": "text/x-python",
   "name": "python",
   "nbconvert_exporter": "python",
   "pygments_lexer": "ipython2",
   "version": "2.7.10"
  }
 },
 "nbformat": 4,
 "nbformat_minor": 0
}
