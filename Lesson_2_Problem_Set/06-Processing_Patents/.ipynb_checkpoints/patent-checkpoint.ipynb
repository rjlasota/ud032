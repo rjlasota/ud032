{
 "cells": [
  {
   "cell_type": "code",
   "execution_count": 1,
   "metadata": {
    "collapsed": true
   },
   "outputs": [],
   "source": [
    "import xml.etree.ElementTree as ET"
   ]
  },
  {
   "cell_type": "code",
   "execution_count": 9,
   "metadata": {
    "collapsed": false
   },
   "outputs": [],
   "source": [
    "PATENTS = 'patent.data'\n",
    "\n",
    "def get_root(fname):\n",
    "    tree = ET.parse(fname)\n",
    "    return tree.getroot()\n",
    "\n",
    "\n",
    "def split_file(filename):\n",
    "    # we want you to split the input file into separate files\n",
    "    # each containing a single patent.\n",
    "    # As a hint - each patent declaration starts with the same line that was causing the error\n",
    "    # The new files should be saved with filename in the following format:\n",
    "    # \"{}-{}\".format(filename, n) where n is a counter, starting from 0.\n",
    "    with open(filename) as f:\n",
    "        first_line = f.readline()\n",
    "        n = 0\n",
    "        g = open('{}-{}'.format(filename, n),'w')\n",
    "        g.write(first_line)\n",
    "        for line in f:\n",
    "            if line == first_line:\n",
    "                g.close()\n",
    "                n = n + 1\n",
    "                g = open('{}-{}'.format(filename, n),'w')\n",
    "            g.write(line)\n",
    "        g.close()\n",
    "\n",
    "\n",
    "def test():\n",
    "    split_file(PATENTS)\n",
    "    for n in range(4):\n",
    "        try:\n",
    "            fname = \"{}-{}\".format(PATENTS, n)\n",
    "            f = open(fname, \"r\")\n",
    "            if not f.readline().startswith(\"<?xml\"):\n",
    "                print \"You have not split the file {} in the correct boundary!\".format(fname)\n",
    "            f.close()\n",
    "        except:\n",
    "            print \"Could not find file {}. Check if the filename is correct!\".format(fname)\n"
   ]
  },
  {
   "cell_type": "code",
   "execution_count": 6,
   "metadata": {
    "collapsed": false
   },
   "outputs": [],
   "source": [
    "filename = 'patent.data'\n",
    "with open(filename) as f:\n",
    "    first_line = f.readline()\n",
    "    n = 0\n",
    "    g = open('{}-{}'.format(filename, n),'w')\n",
    "    g.write(first_line)\n",
    "    for line in f:\n",
    "        if line == first_line:\n",
    "            g.close()\n",
    "            n = n + 1\n",
    "            g = open('{}-{}'.format(filename, n),'w')\n",
    "        g.write(line)\n",
    "    g.close()\n"
   ]
  },
  {
   "cell_type": "code",
   "execution_count": 10,
   "metadata": {
    "collapsed": false
   },
   "outputs": [],
   "source": [
    "test()"
   ]
  },
  {
   "cell_type": "code",
   "execution_count": null,
   "metadata": {
    "collapsed": true
   },
   "outputs": [],
   "source": []
  }
 ],
 "metadata": {
  "kernelspec": {
   "display_name": "Python 2",
   "language": "python",
   "name": "python2"
  },
  "language_info": {
   "codemirror_mode": {
    "name": "ipython",
    "version": 2
   },
   "file_extension": ".py",
   "mimetype": "text/x-python",
   "name": "python",
   "nbconvert_exporter": "python",
   "pygments_lexer": "ipython2",
   "version": "2.7.10"
  }
 },
 "nbformat": 4,
 "nbformat_minor": 0
}
