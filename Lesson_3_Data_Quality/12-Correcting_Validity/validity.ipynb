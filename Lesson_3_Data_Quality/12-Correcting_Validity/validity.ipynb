{
 "cells": [
  {
   "cell_type": "code",
   "execution_count": 1,
   "metadata": {
    "collapsed": true
   },
   "outputs": [],
   "source": [
    "import csv\n",
    "import pprint"
   ]
  },
  {
   "cell_type": "code",
   "execution_count": 2,
   "metadata": {
    "collapsed": true
   },
   "outputs": [],
   "source": [
    "INPUT_FILE = 'autos.csv'\n",
    "OUTPUT_GOOD = 'autos-valid.csv'\n",
    "OUTPUT_BAD = 'FIXME-autos.csv'\n",
    "\n",
    "def test():\n",
    "\n",
    "    process_file(INPUT_FILE, OUTPUT_GOOD, OUTPUT_BAD)"
   ]
  },
  {
   "cell_type": "code",
   "execution_count": 32,
   "metadata": {
    "collapsed": false,
    "scrolled": true
   },
   "outputs": [
    {
     "name": "stdout",
     "output_type": "stream",
     "text": [
      "processing: http://dbpedia.org/resource/Mazda_MX-5 1989-01-01T00:00:00+02:00\n",
      "good http://dbpedia.org/resource/Mazda_MX-5 1989\n",
      "processing: http://dbpedia.org/resource/Nissan_Z-car 1969-01-01T00:00:00+02:00\n",
      "good http://dbpedia.org/resource/Nissan_Z-car 1969\n",
      "processing: http://dbpedia.org/resource/Lotus_Seven 1957-01-01T00:00:00+02:00\n",
      "good http://dbpedia.org/resource/Lotus_Seven 1957\n",
      "processing: http://dbpedia.org/resource/Chaika_(car) 1959-01-01T00:00:00+02:00\n",
      "good http://dbpedia.org/resource/Chaika_(car) 1959\n",
      "processing: http://dbpedia.org/resource/Lada_Samara 2108-01-01T00:00:00+02:00\n",
      "bad http://dbpedia.org/resource/Lada_Samara 2108\n",
      "processing: http://dbpedia.org/resource/BMW_328 1936-01-01T00:00:00+02:00\n",
      "good http://dbpedia.org/resource/BMW_328 1936\n",
      "processing: http://dbpedia.org/resource/Green_Goddess 1953-01-01T00:00:00+02:00\n",
      "good http://dbpedia.org/resource/Green_Goddess 1953\n",
      "processing: http://dbpedia.org/resource/Porsche_Cayenne 2002-01-01T00:00:00+02:00\n",
      "good http://dbpedia.org/resource/Porsche_Cayenne 2002\n",
      "processing: http://dbpedia.org/resource/Pontiac_Vibe 2002-01-01T00:00:00+02:00\n",
      "good http://dbpedia.org/resource/Pontiac_Vibe 2002\n",
      "processing: http://dbpedia.org/resource/Ford_Taurus 1985-01-01T00:00:00+02:00\n",
      "good http://dbpedia.org/resource/Ford_Taurus 1985\n",
      "processing: http://dbpedia.org/resource/Ford_Anglia 1939-01-01T00:00:00+02:00\n",
      "good http://dbpedia.org/resource/Ford_Anglia 1939\n",
      "processing: http://dbpedia.org/resource/Toyota_Celica 1970-01-01T00:00:00+02:00\n",
      "good http://dbpedia.org/resource/Toyota_Celica 1970\n",
      "processing: http://dbpedia.org/resource/Vespa_400 1957-01-01T00:00:00+02:00\n",
      "good http://dbpedia.org/resource/Vespa_400 1957\n",
      "processing: http://dbpedia.org/resource/Edsel 1958-01-01T00:00:00+02:00\n",
      "good http://dbpedia.org/resource/Edsel 1958\n",
      "processing: http://dbpedia.org/resource/Reliant_Fox 1983-01-01T00:00:00+02:00\n",
      "good http://dbpedia.org/resource/Reliant_Fox 1983\n",
      "processing: http://dbpedia.org/resource/Ford_Cortina 1962-01-01T00:00:00+02:00\n",
      "good http://dbpedia.org/resource/Ford_Cortina 1962\n",
      "processing: http://dbpedia.org/resource/Pontiac_GTO 1964-01-01T00:00:00+02:00\n",
      "good http://dbpedia.org/resource/Pontiac_GTO 1964\n",
      "processing: http://dbpedia.org/resource/Vauxhall_Viva 0001-01-01T00:00:00+02:00\n",
      "bad http://dbpedia.org/resource/Vauxhall_Viva 1\n",
      "processing: http://dbpedia.org/resource/Reliant_Scimitar 1964-01-01T00:00:00+02:00\n",
      "good http://dbpedia.org/resource/Reliant_Scimitar 1964\n",
      "processing: http://dbpedia.org/resource/Vauxhall_Astra 1979-01-01T00:00:00+02:00\n",
      "good http://dbpedia.org/resource/Vauxhall_Astra 1979\n",
      "processing: http://dbpedia.org/resource/AC_Cobra 1961-01-01T00:00:00+02:00\n",
      "good http://dbpedia.org/resource/AC_Cobra 1961\n",
      "processing: http://dbpedia.org/resource/Volvo_66 1975-01-01T00:00:00+02:00\n",
      "good http://dbpedia.org/resource/Volvo_66 1975\n",
      "processing: http://dbpedia.org/resource/Volvo_Duett 1953-01-01T00:00:00+02:00\n",
      "good http://dbpedia.org/resource/Volvo_Duett 1953\n",
      "processing: http://dbpedia.org/resource/Saab_9-2 NULL\n",
      "bad http://dbpedia.org/resource/Saab_9-2 NULL\n",
      "processing: http://dbpedia.org/resource/Saab_900 1978-01-01T00:00:00+02:00\n",
      "good http://dbpedia.org/resource/Saab_900 1978\n",
      "processing: http://dbpedia.org/resource/Chalmers_Automobile 1908-01-01T00:00:00+02:00\n",
      "good http://dbpedia.org/resource/Chalmers_Automobile 1908\n",
      "processing: http://dbpedia.org/resource/Chevrolet_Impala 1994-01-01T00:00:00+02:00\n",
      "good http://dbpedia.org/resource/Chevrolet_Impala 1994\n",
      "processing: http://dbpedia.org/resource/Ford_Crown_Victoria 1955-01-01T00:00:00+02:00\n",
      "good http://dbpedia.org/resource/Ford_Crown_Victoria 1955\n",
      "processing: http://dbpedia.org/resource/BMW_Dixi 1927-01-01T00:00:00+02:00\n",
      "good http://dbpedia.org/resource/BMW_Dixi 1927\n",
      "processing: http://dbpedia.org/resource/Toyota_Land_Cruiser 1951-01-01T00:00:00+02:00\n",
      "good http://dbpedia.org/resource/Toyota_Land_Cruiser 1951\n",
      "processing: http://dbpedia.org/resource/Volkswagen_Jetta 1979-01-01T00:00:00+02:00\n",
      "good http://dbpedia.org/resource/Volkswagen_Jetta 1979\n",
      "processing: http://dbpedia.org/resource/E-M-F_Company NULL\n",
      "bad http://dbpedia.org/resource/E-M-F_Company NULL\n",
      "processing: http://dbpedia.org/resource/Ford_Thunderbird 1955-01-01T00:00:00+02:00\n",
      "good http://dbpedia.org/resource/Ford_Thunderbird 1955\n",
      "processing: http://dbpedia.org/resource/Toyota_Matrix 2002-01-01T00:00:00+02:00\n",
      "good http://dbpedia.org/resource/Toyota_Matrix 2002\n",
      "processing: http://dbpedia.org/resource/Honda_Integra 1985-01-01T00:00:00+02:00\n",
      "good http://dbpedia.org/resource/Honda_Integra 1985\n",
      "processing: http://dbpedia.org/resource/Plymouth_Road_Runner 1968-01-01T00:00:00+02:00\n",
      "good http://dbpedia.org/resource/Plymouth_Road_Runner 1968\n",
      "processing: http://dbpedia.org/resource/Lancia_Delta 1979-01-01T00:00:00+02:00\n",
      "good http://dbpedia.org/resource/Lancia_Delta 1979\n",
      "processing: http://dbpedia.org/resource/AMC_Pacer 1975-01-01T00:00:00+02:00\n",
      "good http://dbpedia.org/resource/AMC_Pacer 1975\n",
      "processing: http://dbpedia.org/resource/Ford_Windstar 1994-01-01T00:00:00+02:00\n",
      "good http://dbpedia.org/resource/Ford_Windstar 1994\n",
      "processing: http://dbpedia.org/resource/Ford_Parklane 1956-01-01T00:00:00+02:00\n",
      "good http://dbpedia.org/resource/Ford_Parklane 1956\n",
      "processing: http://dbpedia.org/resource/Ford_Torino 1968-01-01T00:00:00+02:00\n",
      "good http://dbpedia.org/resource/Ford_Torino 1968\n",
      "processing: http://dbpedia.org/resource/Nissan_Maxima 1977-01-01T00:00:00+02:00\n",
      "good http://dbpedia.org/resource/Nissan_Maxima 1977\n",
      "processing: http://dbpedia.org/resource/Dodge_Caravan 1983-01-01T00:00:00+02:00\n",
      "good http://dbpedia.org/resource/Dodge_Caravan 1983\n",
      "processing: http://dbpedia.org/resource/Chevrolet_Avalanche 2001-01-01T00:00:00+02:00\n",
      "good http://dbpedia.org/resource/Chevrolet_Avalanche 2001\n",
      "processing: http://dbpedia.org/resource/Saab_95 1959-01-01T00:00:00+02:00\n",
      "good http://dbpedia.org/resource/Saab_95 1959\n",
      "processing: http://dbpedia.org/resource/Volvo_P1900 1956-01-01T00:00:00+02:00\n",
      "good http://dbpedia.org/resource/Volvo_P1900 1956\n"
     ]
    }
   ],
   "source": [
    "input_file = INPUT_FILE\n",
    "output_good = OUTPUT_GOOD\n",
    "output_bad = OUTPUT_BAD\n",
    "from dateutil import parser\n",
    "\n",
    "with open(input_file, \"r\") as f, open(output_good, \"w\") as g, open(output_bad, \"w\") as h:\n",
    "    reader = csv.DictReader(f)\n",
    "    header = reader.fieldnames\n",
    "    writer_good = csv.DictWriter(g, delimiter=\",\", fieldnames= header)\n",
    "    writer_good.writeheader()\n",
    "    writer_bad = csv.DictWriter(h, delimiter=\",\", fieldnames= header)\n",
    "    writer_bad.writeheader()\n",
    "    for row in reader:\n",
    "        if 'dbpedia.org' in row['URI']:\n",
    "            print 'processing:', row['URI'], row['productionStartYear']\n",
    "            try:\n",
    "                year = parser.parse(row['productionStartYear']).year     # use dateutil for first parse\n",
    "                year = int(row['productionStartYear'][:4])               # but don't trust it's output\n",
    "                row['productionStartYear'] = year\n",
    "            except:\n",
    "                year = 0\n",
    "            if year >= 1886 and year <= 2014:\n",
    "                writer_good.writerow(row)\n",
    "                print 'good', row['URI'], row['productionStartYear']\n",
    "            else:\n",
    "                writer_bad.writerow(row)\n",
    "                print 'bad', row['URI'], row['productionStartYear']"
   ]
  },
  {
   "cell_type": "code",
   "execution_count": 30,
   "metadata": {
    "collapsed": false
   },
   "outputs": [
    {
     "data": {
      "text/plain": [
       "datetime.datetime(2032, 1, 1, 0, 0, tzinfo=tzoffset(None, 7200))"
      ]
     },
     "execution_count": 30,
     "metadata": {},
     "output_type": "execute_result"
    }
   ],
   "source": [
    "parser.parse('0032-01-01T00:00:00+02:00')"
   ]
  },
  {
   "cell_type": "code",
   "execution_count": 12,
   "metadata": {
    "collapsed": true
   },
   "outputs": [
    {
     "data": {
      "text/plain": [
       "['URI',\n",
       " 'rdf-schema#label',\n",
       " 'rdf-schema#comment',\n",
       " 'assembly_label',\n",
       " 'assembly',\n",
       " 'automobilePlatform_label',\n",
       " 'automobilePlatform',\n",
       " 'bodyStyle_label',\n",
       " 'bodyStyle',\n",
       " 'class_label',\n",
       " 'class',\n",
       " 'designCompany_label',\n",
       " 'designCompany',\n",
       " 'designer_label',\n",
       " 'designer',\n",
       " 'engine_label',\n",
       " 'engine',\n",
       " 'fuelCapacity',\n",
       " 'height',\n",
       " 'layout_label',\n",
       " 'layout',\n",
       " 'length',\n",
       " 'manufacturer_label',\n",
       " 'manufacturer',\n",
       " 'modelEndYear',\n",
       " 'modelStartYear',\n",
       " 'parentCompany_label',\n",
       " 'parentCompany',\n",
       " 'predecessor_label',\n",
       " 'predecessor',\n",
       " 'productionEndDate',\n",
       " 'productionEndYear',\n",
       " 'productionStartDate',\n",
       " 'productionStartYear',\n",
       " 'relatedMeanOfTransportation_label',\n",
       " 'relatedMeanOfTransportation',\n",
       " 'sales_label',\n",
       " 'sales',\n",
       " 'successor_label',\n",
       " 'successor',\n",
       " 'thumbnail_label',\n",
       " 'thumbnail',\n",
       " 'transmission',\n",
       " 'variantOf_label',\n",
       " 'variantOf',\n",
       " 'vehicle_label',\n",
       " 'vehicle',\n",
       " 'weight',\n",
       " 'wheelbase',\n",
       " 'width',\n",
       " 'point',\n",
       " '22-rdf-syntax-ns#type_label',\n",
       " '22-rdf-syntax-ns#type',\n",
       " 'wgs84_pos#lat',\n",
       " 'wgs84_pos#long',\n",
       " 'depiction_label',\n",
       " 'depiction',\n",
       " 'name']"
      ]
     },
     "execution_count": 12,
     "metadata": {},
     "output_type": "execute_result"
    }
   ],
   "source": [
    "header"
   ]
  },
  {
   "cell_type": "code",
   "execution_count": 33,
   "metadata": {
    "collapsed": true
   },
   "outputs": [],
   "source": [
    "def process_file(input_file, output_good, output_bad):\n",
    "\n",
    "    with open(input_file, \"r\") as f, open(output_good, \"w\") as g, open(output_bad, \"w\") as h:\n",
    "        reader = csv.DictReader(f)\n",
    "        header = reader.fieldnames\n",
    "        writer_good = csv.DictWriter(g, delimiter=\",\", fieldnames= header)\n",
    "        writer_good.writeheader()\n",
    "        writer_bad = csv.DictWriter(h, delimiter=\",\", fieldnames= header)\n",
    "        writer_bad.writeheader()\n",
    "        for row in reader:\n",
    "            if 'dbpedia.org' in row['URI']:\n",
    "                try:\n",
    "                    year = parser.parse(row['productionStartYear']).year     # use dateutil for first parse\n",
    "                    year = int(row['productionStartYear'][:4])               # but don't trust it's output\n",
    "                    row['productionStartYear'] = year\n",
    "                except:\n",
    "                    year = 0\n",
    "                if year >= 1886 and year <= 2014:\n",
    "                    writer_good.writerow(row)\n",
    "                else:\n",
    "                    writer_bad.writerow(row)\n"
   ]
  },
  {
   "cell_type": "code",
   "execution_count": 34,
   "metadata": {
    "collapsed": true
   },
   "outputs": [],
   "source": [
    "test()"
   ]
  },
  {
   "cell_type": "code",
   "execution_count": null,
   "metadata": {
    "collapsed": true
   },
   "outputs": [],
   "source": []
  }
 ],
 "metadata": {
  "kernelspec": {
   "display_name": "Python 2",
   "language": "python",
   "name": "python2"
  },
  "language_info": {
   "codemirror_mode": {
    "name": "ipython",
    "version": 2
   },
   "file_extension": ".py",
   "mimetype": "text/x-python",
   "name": "python",
   "nbconvert_exporter": "python",
   "pygments_lexer": "ipython2",
   "version": "2.7.10"
  }
 },
 "nbformat": 4,
 "nbformat_minor": 0
}
