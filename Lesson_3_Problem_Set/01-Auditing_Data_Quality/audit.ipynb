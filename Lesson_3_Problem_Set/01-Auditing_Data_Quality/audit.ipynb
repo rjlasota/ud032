{
 "cells": [
  {
   "cell_type": "code",
   "execution_count": 45,
   "metadata": {
    "collapsed": true
   },
   "outputs": [],
   "source": [
    "import codecs\n",
    "import csv\n",
    "import json\n",
    "import pprint\n",
    "from collections import defaultdict"
   ]
  },
  {
   "cell_type": "code",
   "execution_count": 2,
   "metadata": {
    "collapsed": true
   },
   "outputs": [],
   "source": [
    "CITIES = 'cities.csv'\n",
    "\n",
    "FIELDS = [\"name\", \"timeZone_label\", \"utcOffset\", \"homepage\", \"governmentType_label\", \"isPartOf_label\", \"areaCode\", \"populationTotal\", \n",
    "          \"elevation\", \"maximumElevation\", \"minimumElevation\", \"populationDensity\", \"wgs84_pos#lat\", \"wgs84_pos#long\", \n",
    "          \"areaLand\", \"areaMetro\", \"areaUrban\"]"
   ]
  },
  {
   "cell_type": "code",
   "execution_count": 50,
   "metadata": {
    "collapsed": false
   },
   "outputs": [],
   "source": [
    "filename = CITIES\n",
    "fields = FIELDS\n",
    "\n",
    "def find_type(string):\n",
    "    if not string or string == 'NULL':\n",
    "        return type(None)\n",
    "    elif string[0] == '{':\n",
    "        return type(list())\n",
    "    try:\n",
    "        int(string)\n",
    "        return type(int())\n",
    "    except:\n",
    "        pass\n",
    "    try:\n",
    "        float(string)\n",
    "        return type(float())\n",
    "    except:\n",
    "        return type(str())\n",
    "    \n",
    "fieldtypes = defaultdict(set)\n",
    "with open(filename, \"r\") as f:\n",
    "    reader = csv.DictReader(f)\n",
    "    for row in reader:\n",
    "        if 'dbpedia.org' in row['URI']:\n",
    "            for fn in fields:\n",
    "                fieldtypes[fn].add(find_type(row[fn]))"
   ]
  },
  {
   "cell_type": "code",
   "execution_count": 57,
   "metadata": {
    "collapsed": true
   },
   "outputs": [],
   "source": [
    "def audit_file(filename, fields):\n",
    "    fieldtypes = defaultdict(set)\n",
    "    with open(filename, \"r\") as f:\n",
    "        reader = csv.DictReader(f)\n",
    "        for row in reader:\n",
    "            if 'dbpedia.org' in row['URI']:\n",
    "                for fn in fields:\n",
    "                    fieldtypes[fn].add(find_type(row[fn]))\n",
    "    return fieldtypes\n",
    "\n",
    "def test():\n",
    "    fieldtypes = audit_file(CITIES, FIELDS)\n",
    "\n",
    "    pprint.pprint(fieldtypes)\n",
    "\n",
    "    assert fieldtypes[\"areaLand\"] == set([type(1.1), type([]), type(None)])\n",
    "    assert fieldtypes['areaMetro'] == set([type(1.1), type(None)])"
   ]
  },
  {
   "cell_type": "code",
   "execution_count": 58,
   "metadata": {
    "collapsed": false
   },
   "outputs": [
    {
     "name": "stdout",
     "output_type": "stream",
     "text": [
      "defaultdict(<type 'set'>, {'areaLand': set([<type 'float'>, <type 'list'>, <type 'NoneType'>]), 'wgs84_pos#long': set([<type 'float'>]), 'elevation': set([<type 'list'>, <type 'NoneType'>, <type 'float'>]), 'name': set([<type 'str'>, <type 'NoneType'>, <type 'list'>]), 'areaCode': set([<type 'str'>, <type 'int'>, <type 'NoneType'>]), 'populationTotal': set([<type 'int'>, <type 'NoneType'>]), 'minimumElevation': set([<type 'NoneType'>]), 'utcOffset': set([<type 'str'>, <type 'NoneType'>, <type 'int'>, <type 'list'>]), 'areaUrban': set([<type 'float'>, <type 'NoneType'>]), 'wgs84_pos#lat': set([<type 'float'>]), 'timeZone_label': set([<type 'str'>, <type 'NoneType'>]), 'isPartOf_label': set([<type 'str'>, <type 'NoneType'>, <type 'list'>]), 'populationDensity': set([<type 'float'>, <type 'list'>, <type 'NoneType'>]), 'areaMetro': set([<type 'float'>, <type 'NoneType'>]), 'homepage': set([<type 'str'>, <type 'NoneType'>]), 'governmentType_label': set([<type 'str'>, <type 'NoneType'>]), 'maximumElevation': set([<type 'NoneType'>])})\n"
     ]
    }
   ],
   "source": [
    "test()"
   ]
  },
  {
   "cell_type": "code",
   "execution_count": null,
   "metadata": {
    "collapsed": true
   },
   "outputs": [],
   "source": []
  }
 ],
 "metadata": {
  "kernelspec": {
   "display_name": "Python 2",
   "language": "python",
   "name": "python2"
  },
  "language_info": {
   "codemirror_mode": {
    "name": "ipython",
    "version": 2
   },
   "file_extension": ".py",
   "mimetype": "text/x-python",
   "name": "python",
   "nbconvert_exporter": "python",
   "pygments_lexer": "ipython2",
   "version": "2.7.10"
  }
 },
 "nbformat": 4,
 "nbformat_minor": 0
}
