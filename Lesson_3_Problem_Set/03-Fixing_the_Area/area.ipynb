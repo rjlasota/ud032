{
 "cells": [
  {
   "cell_type": "code",
   "execution_count": 3,
   "metadata": {
    "collapsed": true
   },
   "outputs": [],
   "source": [
    "import codecs\n",
    "import csv\n",
    "import json\n",
    "import pprint"
   ]
  },
  {
   "cell_type": "code",
   "execution_count": 24,
   "metadata": {
    "collapsed": true
   },
   "outputs": [],
   "source": [
    "\n",
    "CITIES = 'cities.csv'\n",
    "\n",
    "def find_type(string):\n",
    "    if not string or string == 'NULL':\n",
    "        return type(None)\n",
    "    elif string[0] == '{':\n",
    "        return type(list())\n",
    "    try:\n",
    "        int(string)\n",
    "        return type(int())\n",
    "    except:\n",
    "        pass\n",
    "    try:\n",
    "        float(string)\n",
    "        return type(float())\n",
    "    except:\n",
    "        return type(str())\n",
    "\n",
    "\n",
    "def fix_area(area):\n",
    "    \n",
    "    def none_type(area):\n",
    "        return None\n",
    "    def list_type(area):\n",
    "        area_values = area[1:-1].split('|')\n",
    "        area_lens = [len(item) for item in area_values]\n",
    "        max_idx = area_lens.index(max(area_lens))\n",
    "        return float(area_values[max_idx])\n",
    "    def int_type(area):\n",
    "        return float(area)\n",
    "    def float_type(area):\n",
    "        return float(area)\n",
    "    def str_type(area):\n",
    "        return None\n",
    "    \n",
    "    process_type = {type(None): none_type,\n",
    "                    type(list()): list_type,\n",
    "                    type(int()): int_type,\n",
    "                    type(float()): float_type,\n",
    "                    type(str()): str_type}\n",
    "    \n",
    "    return process_type[find_type(area)](area)\n",
    "\n",
    "\n",
    "def process_file(filename):\n",
    "    # CHANGES TO THIS FUNCTION WILL BE IGNORED WHEN YOU SUBMIT THE EXERCISE\n",
    "    data = []\n",
    "\n",
    "    with open(filename, \"r\") as f:\n",
    "        reader = csv.DictReader(f)\n",
    "\n",
    "        #skipping the extra matadata\n",
    "        for i in range(3):\n",
    "            l = reader.next()\n",
    "\n",
    "        # processing file\n",
    "        for line in reader:\n",
    "            # calling your function to fix the area value\n",
    "            if \"areaLand\" in line:\n",
    "                line[\"areaLand\"] = fix_area(line[\"areaLand\"])\n",
    "            data.append(line)\n",
    "\n",
    "    return data\n",
    "\n",
    "\n",
    "def test():\n",
    "    data = process_file(CITIES)\n",
    "\n",
    "    print \"Printing three example results:\"\n",
    "    for n in range(5,8):\n",
    "        pprint.pprint(data[n][\"areaLand\"])\n",
    "\n",
    "    assert data[8][\"areaLand\"] == 55166700.0\n",
    "    assert data[3][\"areaLand\"] == None\n"
   ]
  },
  {
   "cell_type": "code",
   "execution_count": 25,
   "metadata": {
    "collapsed": false
   },
   "outputs": [
    {
     "name": "stdout",
     "output_type": "stream",
     "text": [
      "Printing three example results:\n",
      "None\n",
      "101787000.0\n",
      "31597900.0\n"
     ]
    }
   ],
   "source": [
    "test()"
   ]
  },
  {
   "cell_type": "code",
   "execution_count": null,
   "metadata": {
    "collapsed": true
   },
   "outputs": [],
   "source": []
  }
 ],
 "metadata": {
  "kernelspec": {
   "display_name": "Python 2",
   "language": "python",
   "name": "python2"
  },
  "language_info": {
   "codemirror_mode": {
    "name": "ipython",
    "version": 2
   },
   "file_extension": ".py",
   "mimetype": "text/x-python",
   "name": "python",
   "nbconvert_exporter": "python",
   "pygments_lexer": "ipython2",
   "version": "2.7.10"
  }
 },
 "nbformat": 4,
 "nbformat_minor": 0
}
